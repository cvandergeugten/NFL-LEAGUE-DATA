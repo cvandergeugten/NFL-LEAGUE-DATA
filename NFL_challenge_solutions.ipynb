{
 "cells": [
  {
   "cell_type": "code",
   "execution_count": 139,
   "id": "3be8a27d",
   "metadata": {},
   "outputs": [],
   "source": [
    "import pandas as pd"
   ]
  },
  {
   "cell_type": "code",
   "execution_count": 191,
   "id": "ecb35bb1",
   "metadata": {
    "scrolled": false
   },
   "outputs": [
    {
     "data": {
      "text/html": [
       "<div>\n",
       "<style scoped>\n",
       "    .dataframe tbody tr th:only-of-type {\n",
       "        vertical-align: middle;\n",
       "    }\n",
       "\n",
       "    .dataframe tbody tr th {\n",
       "        vertical-align: top;\n",
       "    }\n",
       "\n",
       "    .dataframe thead th {\n",
       "        text-align: right;\n",
       "    }\n",
       "</style>\n",
       "<table border=\"1\" class=\"dataframe\">\n",
       "  <thead>\n",
       "    <tr style=\"text-align: right;\">\n",
       "      <th></th>\n",
       "      <th>Unnamed: 0</th>\n",
       "      <th>NFL Team</th>\n",
       "      <th>W</th>\n",
       "      <th>L</th>\n",
       "      <th>T</th>\n",
       "      <th>PCT</th>\n",
       "      <th>PF</th>\n",
       "      <th>PA</th>\n",
       "      <th>Net Pts</th>\n",
       "      <th>Home</th>\n",
       "      <th>Road</th>\n",
       "      <th>Div</th>\n",
       "      <th>Pct</th>\n",
       "      <th>Conf</th>\n",
       "      <th>Pct.1</th>\n",
       "      <th>Non-Conf</th>\n",
       "      <th>Strk</th>\n",
       "      <th>Last 5</th>\n",
       "      <th>Year</th>\n",
       "    </tr>\n",
       "  </thead>\n",
       "  <tbody>\n",
       "    <tr>\n",
       "      <th>0</th>\n",
       "      <td>0</td>\n",
       "      <td>Los Angeles Chargers</td>\n",
       "      <td>1</td>\n",
       "      <td>15</td>\n",
       "      <td>0</td>\n",
       "      <td>0.063</td>\n",
       "      <td>269</td>\n",
       "      <td>440</td>\n",
       "      <td>-171</td>\n",
       "      <td>1 - 7 - 0</td>\n",
       "      <td>0 - 8 - 0</td>\n",
       "      <td>1 - 7 - 0</td>\n",
       "      <td>0.125</td>\n",
       "      <td>1 - 11 - 0</td>\n",
       "      <td>0.083</td>\n",
       "      <td>0 - 4 - 0</td>\n",
       "      <td>4L</td>\n",
       "      <td>1 - 4 - 0</td>\n",
       "      <td>2000</td>\n",
       "    </tr>\n",
       "    <tr>\n",
       "      <th>1</th>\n",
       "      <td>1</td>\n",
       "      <td>Arizona Cardinals</td>\n",
       "      <td>3</td>\n",
       "      <td>13</td>\n",
       "      <td>0</td>\n",
       "      <td>0.188</td>\n",
       "      <td>210</td>\n",
       "      <td>443</td>\n",
       "      <td>-233</td>\n",
       "      <td>3 - 5 - 0</td>\n",
       "      <td>0 - 8 - 0</td>\n",
       "      <td>2 - 6 - 0</td>\n",
       "      <td>0.250</td>\n",
       "      <td>2 - 10 - 0</td>\n",
       "      <td>0.167</td>\n",
       "      <td>1 - 3 - 0</td>\n",
       "      <td>7L</td>\n",
       "      <td>0 - 5 - 0</td>\n",
       "      <td>2000</td>\n",
       "    </tr>\n",
       "    <tr>\n",
       "      <th>2</th>\n",
       "      <td>2</td>\n",
       "      <td>Cleveland Browns</td>\n",
       "      <td>3</td>\n",
       "      <td>13</td>\n",
       "      <td>0</td>\n",
       "      <td>0.188</td>\n",
       "      <td>161</td>\n",
       "      <td>419</td>\n",
       "      <td>-258</td>\n",
       "      <td>2 - 6 - 0</td>\n",
       "      <td>1 - 7 - 0</td>\n",
       "      <td>2 - 8 - 0</td>\n",
       "      <td>0.200</td>\n",
       "      <td>3 - 10 - 0</td>\n",
       "      <td>0.231</td>\n",
       "      <td>0 - 3 - 0</td>\n",
       "      <td>5L</td>\n",
       "      <td>0 - 5 - 0</td>\n",
       "      <td>2000</td>\n",
       "    </tr>\n",
       "    <tr>\n",
       "      <th>3</th>\n",
       "      <td>3</td>\n",
       "      <td>Atlanta Falcons</td>\n",
       "      <td>4</td>\n",
       "      <td>12</td>\n",
       "      <td>0</td>\n",
       "      <td>0.250</td>\n",
       "      <td>252</td>\n",
       "      <td>413</td>\n",
       "      <td>-161</td>\n",
       "      <td>3 - 5 - 0</td>\n",
       "      <td>1 - 7 - 0</td>\n",
       "      <td>3 - 5 - 0</td>\n",
       "      <td>0.375</td>\n",
       "      <td>3 - 9 - 0</td>\n",
       "      <td>0.250</td>\n",
       "      <td>1 - 3 - 0</td>\n",
       "      <td>1W</td>\n",
       "      <td>1 - 4 - 0</td>\n",
       "      <td>2000</td>\n",
       "    </tr>\n",
       "    <tr>\n",
       "      <th>4</th>\n",
       "      <td>4</td>\n",
       "      <td>Cincinnati Bengals</td>\n",
       "      <td>4</td>\n",
       "      <td>12</td>\n",
       "      <td>0</td>\n",
       "      <td>0.250</td>\n",
       "      <td>185</td>\n",
       "      <td>359</td>\n",
       "      <td>-174</td>\n",
       "      <td>3 - 5 - 0</td>\n",
       "      <td>1 - 7 - 0</td>\n",
       "      <td>2 - 8 - 0</td>\n",
       "      <td>0.200</td>\n",
       "      <td>3 - 10 - 0</td>\n",
       "      <td>0.231</td>\n",
       "      <td>1 - 2 - 0</td>\n",
       "      <td>1L</td>\n",
       "      <td>2 - 3 - 0</td>\n",
       "      <td>2000</td>\n",
       "    </tr>\n",
       "  </tbody>\n",
       "</table>\n",
       "</div>"
      ],
      "text/plain": [
       "   Unnamed: 0              NFL Team  W   L  T    PCT   PF   PA  Net Pts  \\\n",
       "0           0  Los Angeles Chargers  1  15  0  0.063  269  440     -171   \n",
       "1           1     Arizona Cardinals  3  13  0  0.188  210  443     -233   \n",
       "2           2      Cleveland Browns  3  13  0  0.188  161  419     -258   \n",
       "3           3       Atlanta Falcons  4  12  0  0.250  252  413     -161   \n",
       "4           4    Cincinnati Bengals  4  12  0  0.250  185  359     -174   \n",
       "\n",
       "        Home       Road        Div    Pct        Conf  Pct.1   Non-Conf Strk  \\\n",
       "0  1 - 7 - 0  0 - 8 - 0  1 - 7 - 0  0.125  1 - 11 - 0  0.083  0 - 4 - 0   4L   \n",
       "1  3 - 5 - 0  0 - 8 - 0  2 - 6 - 0  0.250  2 - 10 - 0  0.167  1 - 3 - 0   7L   \n",
       "2  2 - 6 - 0  1 - 7 - 0  2 - 8 - 0  0.200  3 - 10 - 0  0.231  0 - 3 - 0   5L   \n",
       "3  3 - 5 - 0  1 - 7 - 0  3 - 5 - 0  0.375   3 - 9 - 0  0.250  1 - 3 - 0   1W   \n",
       "4  3 - 5 - 0  1 - 7 - 0  2 - 8 - 0  0.200  3 - 10 - 0  0.231  1 - 2 - 0   1L   \n",
       "\n",
       "      Last 5  Year  \n",
       "0  1 - 4 - 0  2000  \n",
       "1  0 - 5 - 0  2000  \n",
       "2  0 - 5 - 0  2000  \n",
       "3  1 - 4 - 0  2000  \n",
       "4  2 - 3 - 0  2000  "
      ]
     },
     "execution_count": 191,
     "metadata": {},
     "output_type": "execute_result"
    }
   ],
   "source": [
    "df = pd.read_csv('NFL_League_Master.csv')\n",
    "df.head()"
   ]
  },
  {
   "cell_type": "code",
   "execution_count": 192,
   "id": "f912677d",
   "metadata": {},
   "outputs": [],
   "source": [
    "#Drop index column\n",
    "df.drop('Unnamed: 0', axis=1, inplace=True)"
   ]
  },
  {
   "cell_type": "code",
   "execution_count": 193,
   "id": "146bcd5a",
   "metadata": {
    "scrolled": true
   },
   "outputs": [
    {
     "data": {
      "text/html": [
       "<div>\n",
       "<style scoped>\n",
       "    .dataframe tbody tr th:only-of-type {\n",
       "        vertical-align: middle;\n",
       "    }\n",
       "\n",
       "    .dataframe tbody tr th {\n",
       "        vertical-align: top;\n",
       "    }\n",
       "\n",
       "    .dataframe thead th {\n",
       "        text-align: right;\n",
       "    }\n",
       "</style>\n",
       "<table border=\"1\" class=\"dataframe\">\n",
       "  <thead>\n",
       "    <tr style=\"text-align: right;\">\n",
       "      <th></th>\n",
       "      <th>NFL Team</th>\n",
       "      <th>W</th>\n",
       "      <th>L</th>\n",
       "      <th>T</th>\n",
       "      <th>PCT</th>\n",
       "      <th>PF</th>\n",
       "      <th>PA</th>\n",
       "      <th>Net Pts</th>\n",
       "      <th>Home</th>\n",
       "      <th>Road</th>\n",
       "      <th>Div</th>\n",
       "      <th>Pct</th>\n",
       "      <th>Conf</th>\n",
       "      <th>Pct.1</th>\n",
       "      <th>Non-Conf</th>\n",
       "      <th>Strk</th>\n",
       "      <th>Last 5</th>\n",
       "      <th>Year</th>\n",
       "    </tr>\n",
       "  </thead>\n",
       "  <tbody>\n",
       "    <tr>\n",
       "      <th>0</th>\n",
       "      <td>Los Angeles Chargers</td>\n",
       "      <td>1</td>\n",
       "      <td>15</td>\n",
       "      <td>0</td>\n",
       "      <td>0.063</td>\n",
       "      <td>269</td>\n",
       "      <td>440</td>\n",
       "      <td>-171</td>\n",
       "      <td>1 - 7 - 0</td>\n",
       "      <td>0 - 8 - 0</td>\n",
       "      <td>1 - 7 - 0</td>\n",
       "      <td>0.125</td>\n",
       "      <td>1 - 11 - 0</td>\n",
       "      <td>0.083</td>\n",
       "      <td>0 - 4 - 0</td>\n",
       "      <td>4L</td>\n",
       "      <td>1 - 4 - 0</td>\n",
       "      <td>2000</td>\n",
       "    </tr>\n",
       "    <tr>\n",
       "      <th>1</th>\n",
       "      <td>Arizona Cardinals</td>\n",
       "      <td>3</td>\n",
       "      <td>13</td>\n",
       "      <td>0</td>\n",
       "      <td>0.188</td>\n",
       "      <td>210</td>\n",
       "      <td>443</td>\n",
       "      <td>-233</td>\n",
       "      <td>3 - 5 - 0</td>\n",
       "      <td>0 - 8 - 0</td>\n",
       "      <td>2 - 6 - 0</td>\n",
       "      <td>0.250</td>\n",
       "      <td>2 - 10 - 0</td>\n",
       "      <td>0.167</td>\n",
       "      <td>1 - 3 - 0</td>\n",
       "      <td>7L</td>\n",
       "      <td>0 - 5 - 0</td>\n",
       "      <td>2000</td>\n",
       "    </tr>\n",
       "    <tr>\n",
       "      <th>2</th>\n",
       "      <td>Cleveland Browns</td>\n",
       "      <td>3</td>\n",
       "      <td>13</td>\n",
       "      <td>0</td>\n",
       "      <td>0.188</td>\n",
       "      <td>161</td>\n",
       "      <td>419</td>\n",
       "      <td>-258</td>\n",
       "      <td>2 - 6 - 0</td>\n",
       "      <td>1 - 7 - 0</td>\n",
       "      <td>2 - 8 - 0</td>\n",
       "      <td>0.200</td>\n",
       "      <td>3 - 10 - 0</td>\n",
       "      <td>0.231</td>\n",
       "      <td>0 - 3 - 0</td>\n",
       "      <td>5L</td>\n",
       "      <td>0 - 5 - 0</td>\n",
       "      <td>2000</td>\n",
       "    </tr>\n",
       "    <tr>\n",
       "      <th>3</th>\n",
       "      <td>Atlanta Falcons</td>\n",
       "      <td>4</td>\n",
       "      <td>12</td>\n",
       "      <td>0</td>\n",
       "      <td>0.250</td>\n",
       "      <td>252</td>\n",
       "      <td>413</td>\n",
       "      <td>-161</td>\n",
       "      <td>3 - 5 - 0</td>\n",
       "      <td>1 - 7 - 0</td>\n",
       "      <td>3 - 5 - 0</td>\n",
       "      <td>0.375</td>\n",
       "      <td>3 - 9 - 0</td>\n",
       "      <td>0.250</td>\n",
       "      <td>1 - 3 - 0</td>\n",
       "      <td>1W</td>\n",
       "      <td>1 - 4 - 0</td>\n",
       "      <td>2000</td>\n",
       "    </tr>\n",
       "    <tr>\n",
       "      <th>4</th>\n",
       "      <td>Cincinnati Bengals</td>\n",
       "      <td>4</td>\n",
       "      <td>12</td>\n",
       "      <td>0</td>\n",
       "      <td>0.250</td>\n",
       "      <td>185</td>\n",
       "      <td>359</td>\n",
       "      <td>-174</td>\n",
       "      <td>3 - 5 - 0</td>\n",
       "      <td>1 - 7 - 0</td>\n",
       "      <td>2 - 8 - 0</td>\n",
       "      <td>0.200</td>\n",
       "      <td>3 - 10 - 0</td>\n",
       "      <td>0.231</td>\n",
       "      <td>1 - 2 - 0</td>\n",
       "      <td>1L</td>\n",
       "      <td>2 - 3 - 0</td>\n",
       "      <td>2000</td>\n",
       "    </tr>\n",
       "  </tbody>\n",
       "</table>\n",
       "</div>"
      ],
      "text/plain": [
       "               NFL Team  W   L  T    PCT   PF   PA  Net Pts       Home  \\\n",
       "0  Los Angeles Chargers  1  15  0  0.063  269  440     -171  1 - 7 - 0   \n",
       "1     Arizona Cardinals  3  13  0  0.188  210  443     -233  3 - 5 - 0   \n",
       "2      Cleveland Browns  3  13  0  0.188  161  419     -258  2 - 6 - 0   \n",
       "3       Atlanta Falcons  4  12  0  0.250  252  413     -161  3 - 5 - 0   \n",
       "4    Cincinnati Bengals  4  12  0  0.250  185  359     -174  3 - 5 - 0   \n",
       "\n",
       "        Road        Div    Pct        Conf  Pct.1   Non-Conf Strk     Last 5  \\\n",
       "0  0 - 8 - 0  1 - 7 - 0  0.125  1 - 11 - 0  0.083  0 - 4 - 0   4L  1 - 4 - 0   \n",
       "1  0 - 8 - 0  2 - 6 - 0  0.250  2 - 10 - 0  0.167  1 - 3 - 0   7L  0 - 5 - 0   \n",
       "2  1 - 7 - 0  2 - 8 - 0  0.200  3 - 10 - 0  0.231  0 - 3 - 0   5L  0 - 5 - 0   \n",
       "3  1 - 7 - 0  3 - 5 - 0  0.375   3 - 9 - 0  0.250  1 - 3 - 0   1W  1 - 4 - 0   \n",
       "4  1 - 7 - 0  2 - 8 - 0  0.200  3 - 10 - 0  0.231  1 - 2 - 0   1L  2 - 3 - 0   \n",
       "\n",
       "   Year  \n",
       "0  2000  \n",
       "1  2000  \n",
       "2  2000  \n",
       "3  2000  \n",
       "4  2000  "
      ]
     },
     "execution_count": 193,
     "metadata": {},
     "output_type": "execute_result"
    }
   ],
   "source": [
    "df.head()"
   ]
  },
  {
   "cell_type": "markdown",
   "id": "19a0d6f9",
   "metadata": {},
   "source": [
    "# Challenge Solutions"
   ]
  },
  {
   "cell_type": "markdown",
   "id": "5ed6adce",
   "metadata": {},
   "source": [
    "### 1. Fixing Column Names"
   ]
  },
  {
   "cell_type": "code",
   "execution_count": 194,
   "id": "e738afd2",
   "metadata": {},
   "outputs": [],
   "source": [
    "renamed_columns = {'PCT':'Total Win Pct',\n",
    "                   'Pct':'Division Pct',\n",
    "                   'Pct.1':'Conference Pct'}"
   ]
  },
  {
   "cell_type": "code",
   "execution_count": 195,
   "id": "c5b8c153",
   "metadata": {},
   "outputs": [],
   "source": [
    "df.rename(renamed_columns,axis=1,inplace=True)"
   ]
  },
  {
   "cell_type": "markdown",
   "id": "db9572d2",
   "metadata": {},
   "source": [
    "### 2. Feature Engineering"
   ]
  },
  {
   "cell_type": "code",
   "execution_count": 196,
   "id": "55a86f85",
   "metadata": {},
   "outputs": [],
   "source": [
    "#Create Divisions Columns\n",
    "\n",
    "df['Division'] = ['AFC East' if team in ['Buffalo Bills','Miami Dolphins','New England Patriots','New York Jets']\n",
    "                 else 'AFC North' if team in ['Baltimore Ravens','Cincinnati Benglas','Cleveland Browns','Pittsburgh Steelers']\n",
    "                 else 'AFC South' if team in ['Houstan Texans','Indianapolis Colts','Jacksonville Jaguars','Tennessee Titans']\n",
    "                 else 'AFC West' if team in ['Denver Broncos','Kansas City Chiefs','Las Vegas Raiders','Los Angeles Chargers']\n",
    "                 else 'NFC East' if team in ['Dallas Cowboys','New York Giants','Philadelphia Eagles','Washington Commanders']\n",
    "                 else 'NFC North' if team in ['Chicago Bears','Detroit Lions','Green Bay Packers','Minnesota Vikings']\n",
    "                 else 'NFC South' if team in ['Atlanta Falcons','Carolina Panthers','New Orleans Saints','Tampa Bay Buccaneers']\n",
    "                 else 'NFC West' for team in df['NFL Team']]"
   ]
  },
  {
   "cell_type": "code",
   "execution_count": 197,
   "id": "4bdf04b4",
   "metadata": {},
   "outputs": [],
   "source": [
    "#Create new columns from the record columns\n",
    "df['Home Wins'] = [int(val[0]) for val in df['Home']]\n",
    "df['Home Losses'] = [int(val[4]) for val in df['Home']]\n",
    "df['Home Ties'] = [int(val[-1]) for val in df['Home']]\n",
    "\n",
    "df['Road Wins'] = [int(val[0]) for val in df['Road']]\n",
    "df['Road Losses'] = [int(val[4]) for val in df['Road']]\n",
    "df['Road Ties'] = [int(val[-1]) for val in df['Road']]\n",
    "\n",
    "df['Division Wins'] = [int(val[0]) for val in df['Div']]\n",
    "df['Division Losses'] = [int(val[4]) for val in df['Div']]\n",
    "df['Division Ties'] = [int(val[-1]) for val in df['Div']]\n",
    "\n",
    "df['Last 5 Wins'] = [int(val[0]) for val in df['Last 5']]\n",
    "df['Last 5 Losses'] = [int(val[4]) for val in df['Last 5']]\n",
    "df['Last 5 Ties'] = [int(val[-1]) for val in df['Last 5']]\n",
    "\n",
    "df['Non-Conference Wins'] = [int(val[0]) for val in df['Non-Conf']]\n",
    "df['Non-Conference Losses'] = [int(val[4]) for val in df['Non-Conf']]\n",
    "df['Non-Conference Ties'] = [int(val[-1]) for val in df['Non-Conf']]\n",
    "\n",
    "#Conference requires different code since it includes double digit #'s'\n",
    "df['Conference Wins'] = [int(val.split('-')[0]) for val in df['Conf']]\n",
    "df['Conference Losses'] = [int(val.split('-')[1]) for val in df['Conf']]\n",
    "df['Conference Ties'] = [int(val.split('-')[2]) for val in df['Conf']]\n",
    "\n",
    "# 'Undefeated' features\n",
    "\n",
    "df['Home Undefeated'] = [1 if losses == 0 else 0 for losses in df['Home Losses']]\n",
    "df['Road Undefeated'] = [1 if losses == 0 else 0 for losses in df['Road Losses']]\n",
    "df['Division Undefeated'] = [1 if losses == 0 else 0 for losses in df['Division Losses']]\n",
    "df['Last 5 Undefeated'] = [1 if losses == 0 else 0 for losses in df['Last 5 Losses']]\n",
    "df['Non-Conference Undefeated'] = [1 if losses == 0 else 0 for losses in df['Non-Conference Losses']]\n",
    "df['Conference Undefeated'] = [1 if losses == 0 else 0 for losses in df['Conference Losses']]\n",
    "\n",
    "#Streaks\n",
    "df['Win Streak'] = [int(item.split('W')[0]) if 'W' in item else 0 for item in df['Strk']]\n",
    "df['Lose Streak'] = [int(item.split('L')[0]) if 'L' in item else 0 for item in df['Strk']]"
   ]
  },
  {
   "cell_type": "code",
   "execution_count": 198,
   "id": "eb10eb61",
   "metadata": {},
   "outputs": [],
   "source": [
    "#Drop the columns we don't need anymore\n",
    "df.drop(['Home','Road','Div','Conf','Non-Conf','Last 5','Strk'],axis=1,inplace=True)"
   ]
  },
  {
   "cell_type": "code",
   "execution_count": 199,
   "id": "84be9065",
   "metadata": {},
   "outputs": [
    {
     "name": "stdout",
     "output_type": "stream",
     "text": [
      "<class 'pandas.core.frame.DataFrame'>\n",
      "RangeIndex: 702 entries, 0 to 701\n",
      "Data columns (total 38 columns):\n",
      " #   Column                     Non-Null Count  Dtype  \n",
      "---  ------                     --------------  -----  \n",
      " 0   NFL Team                   702 non-null    object \n",
      " 1   W                          702 non-null    int64  \n",
      " 2   L                          702 non-null    int64  \n",
      " 3   T                          702 non-null    int64  \n",
      " 4   Total Win Pct              702 non-null    float64\n",
      " 5   PF                         702 non-null    int64  \n",
      " 6   PA                         702 non-null    int64  \n",
      " 7   Net Pts                    702 non-null    int64  \n",
      " 8   Division Pct               702 non-null    float64\n",
      " 9   Conference Pct             702 non-null    float64\n",
      " 10  Year                       702 non-null    int64  \n",
      " 11  Division                   702 non-null    object \n",
      " 12  Home Wins                  702 non-null    int64  \n",
      " 13  Home Losses                702 non-null    int64  \n",
      " 14  Home Ties                  702 non-null    int64  \n",
      " 15  Road Wins                  702 non-null    int64  \n",
      " 16  Road Losses                702 non-null    int64  \n",
      " 17  Road Ties                  702 non-null    int64  \n",
      " 18  Division Wins              702 non-null    int64  \n",
      " 19  Division Losses            702 non-null    int64  \n",
      " 20  Division Ties              702 non-null    int64  \n",
      " 21  Last 5 Wins                702 non-null    int64  \n",
      " 22  Last 5 Losses              702 non-null    int64  \n",
      " 23  Last 5 Ties                702 non-null    int64  \n",
      " 24  Non-Conference Wins        702 non-null    int64  \n",
      " 25  Non-Conference Losses      702 non-null    int64  \n",
      " 26  Non-Conference Ties        702 non-null    int64  \n",
      " 27  Conference Wins            702 non-null    int64  \n",
      " 28  Conference Losses          702 non-null    int64  \n",
      " 29  Conference Ties            702 non-null    int64  \n",
      " 30  Home Undefeated            702 non-null    int64  \n",
      " 31  Road Undefeated            702 non-null    int64  \n",
      " 32  Division Undefeated        702 non-null    int64  \n",
      " 33  Last 5 Undefeated          702 non-null    int64  \n",
      " 34  Non-Conference Undefeated  702 non-null    int64  \n",
      " 35  Conference Undefeated      702 non-null    int64  \n",
      " 36  Win Streak                 702 non-null    int64  \n",
      " 37  Lose Streak                702 non-null    int64  \n",
      "dtypes: float64(3), int64(33), object(2)\n",
      "memory usage: 208.5+ KB\n"
     ]
    }
   ],
   "source": [
    "df.info()"
   ]
  },
  {
   "cell_type": "markdown",
   "id": "ace0410e",
   "metadata": {},
   "source": [
    "### 3. Questions"
   ]
  },
  {
   "cell_type": "markdown",
   "id": "bf443e29",
   "metadata": {},
   "source": [
    "* Over the last 21 years, who has been the best/worst performing teams?"
   ]
  },
  {
   "cell_type": "code",
   "execution_count": 200,
   "id": "5826e579",
   "metadata": {},
   "outputs": [
    {
     "data": {
      "text/plain": [
       "NFL Team\n",
       "New England Patriots    254\n",
       "Pittsburgh Steelers     226\n",
       "Green Bay Packers       223\n",
       "Indianapolis Colts      217\n",
       "Baltimore Ravens        209\n",
       "Name: W, dtype: int64"
      ]
     },
     "execution_count": 200,
     "metadata": {},
     "output_type": "execute_result"
    }
   ],
   "source": [
    "#Top 5 Teams by Total Wins\n",
    "df.groupby('NFL Team')['W'].sum().sort_values(ascending=False).head(5)"
   ]
  },
  {
   "cell_type": "code",
   "execution_count": 201,
   "id": "d524abac",
   "metadata": {
    "scrolled": true
   },
   "outputs": [
    {
     "data": {
      "text/plain": [
       "NFL Team\n",
       "New England Patriots    77\n",
       "Pittsburgh Steelers     54\n",
       "Los Angeles Chargers    48\n",
       "Green Bay Packers       46\n",
       "Baltimore Ravens        46\n",
       "Name: Win Streak, dtype: int64"
      ]
     },
     "execution_count": 201,
     "metadata": {},
     "output_type": "execute_result"
    }
   ],
   "source": [
    "#Top 5 Teams by Win Streak\n",
    "df.groupby('NFL Team')['Win Streak'].sum().sort_values(ascending=False).head(5)"
   ]
  },
  {
   "cell_type": "markdown",
   "id": "35bdf60c",
   "metadata": {},
   "source": [
    "---"
   ]
  },
  {
   "cell_type": "code",
   "execution_count": 202,
   "id": "8ffec457",
   "metadata": {},
   "outputs": [
    {
     "data": {
      "text/plain": [
       "NFL Team\n",
       "Cleveland Browns        118\n",
       "Detroit Lions           122\n",
       "Jacksonville Jaguars    131\n",
       "Houston Texans          139\n",
       "Las Vegas Raiders       143\n",
       "Name: W, dtype: int64"
      ]
     },
     "execution_count": 202,
     "metadata": {},
     "output_type": "execute_result"
    }
   ],
   "source": [
    "#Bottom 5 Teams by Total Wins\n",
    "df.groupby('NFL Team')['W'].sum().sort_values().head(5)"
   ]
  },
  {
   "cell_type": "code",
   "execution_count": 203,
   "id": "40e513a0",
   "metadata": {},
   "outputs": [
    {
     "data": {
      "text/plain": [
       "NFL Team\n",
       "Cleveland Browns        65\n",
       "Detroit Lions           64\n",
       "Jacksonville Jaguars    51\n",
       "Las Vegas Raiders       46\n",
       "Los Angeles Rams        46\n",
       "Name: Lose Streak, dtype: int64"
      ]
     },
     "execution_count": 203,
     "metadata": {},
     "output_type": "execute_result"
    }
   ],
   "source": [
    "#Teams with the most losing streaks\n",
    "df.groupby('NFL Team')['Lose Streak'].sum().sort_values(ascending=False).head(5)"
   ]
  },
  {
   "cell_type": "markdown",
   "id": "45b9a774",
   "metadata": {},
   "source": [
    "* Which teams perform better at home? On the road?"
   ]
  },
  {
   "cell_type": "code",
   "execution_count": 204,
   "id": "27588156",
   "metadata": {},
   "outputs": [
    {
     "data": {
      "text/plain": [
       "NFL Team\n",
       "New England Patriots    139\n",
       "Green Bay Packers       129\n",
       "Baltimore Ravens        128\n",
       "Pittsburgh Steelers     126\n",
       "Indianapolis Colts      119\n",
       "Name: Home Wins, dtype: int64"
      ]
     },
     "execution_count": 204,
     "metadata": {},
     "output_type": "execute_result"
    }
   ],
   "source": [
    "#Best performing teams at home\n",
    "df.groupby('NFL Team')['Home Wins'].sum().sort_values(ascending=False).head(5)"
   ]
  },
  {
   "cell_type": "code",
   "execution_count": 205,
   "id": "d18c46dc",
   "metadata": {},
   "outputs": [
    {
     "data": {
      "text/plain": [
       "NFL Team\n",
       "New England Patriots    115\n",
       "New Orleans Saints      102\n",
       "Philadelphia Eagles     100\n",
       "Pittsburgh Steelers     100\n",
       "Indianapolis Colts       98\n",
       "Name: Road Wins, dtype: int64"
      ]
     },
     "execution_count": 205,
     "metadata": {},
     "output_type": "execute_result"
    }
   ],
   "source": [
    "#Best performing teams on the road\n",
    "df.groupby('NFL Team')['Road Wins'].sum().sort_values(ascending=False).head(5)"
   ]
  },
  {
   "cell_type": "markdown",
   "id": "04daea07",
   "metadata": {},
   "source": [
    "* Which teams tie the most?"
   ]
  },
  {
   "cell_type": "code",
   "execution_count": 208,
   "id": "6f9529d1",
   "metadata": {},
   "outputs": [
    {
     "data": {
      "text/plain": [
       "NFL Team\n",
       "Cincinnati Bengals     4\n",
       "Pittsburgh Steelers    3\n",
       "Arizona Cardinals      2\n",
       "Green Bay Packers      2\n",
       "Philadelphia Eagles    2\n",
       "Name: T, dtype: int64"
      ]
     },
     "execution_count": 208,
     "metadata": {},
     "output_type": "execute_result"
    }
   ],
   "source": [
    "df.groupby('NFL Team')['T'].sum().sort_values(ascending=False).head(5)"
   ]
  },
  {
   "cell_type": "markdown",
   "id": "1d3eca16",
   "metadata": {},
   "source": [
    "* Favorite team's performance? (49ers)"
   ]
  },
  {
   "cell_type": "code",
   "execution_count": 216,
   "id": "c9ae40e6",
   "metadata": {},
   "outputs": [
    {
     "data": {
      "text/html": [
       "<div>\n",
       "<style scoped>\n",
       "    .dataframe tbody tr th:only-of-type {\n",
       "        vertical-align: middle;\n",
       "    }\n",
       "\n",
       "    .dataframe tbody tr th {\n",
       "        vertical-align: top;\n",
       "    }\n",
       "\n",
       "    .dataframe thead th {\n",
       "        text-align: right;\n",
       "    }\n",
       "</style>\n",
       "<table border=\"1\" class=\"dataframe\">\n",
       "  <thead>\n",
       "    <tr style=\"text-align: right;\">\n",
       "      <th></th>\n",
       "      <th>W</th>\n",
       "      <th>Year</th>\n",
       "    </tr>\n",
       "  </thead>\n",
       "  <tbody>\n",
       "    <tr>\n",
       "      <th>380</th>\n",
       "      <td>13</td>\n",
       "      <td>2011</td>\n",
       "    </tr>\n",
       "    <tr>\n",
       "      <th>636</th>\n",
       "      <td>13</td>\n",
       "      <td>2019</td>\n",
       "    </tr>\n",
       "    <tr>\n",
       "      <th>58</th>\n",
       "      <td>12</td>\n",
       "      <td>2001</td>\n",
       "    </tr>\n",
       "    <tr>\n",
       "      <th>443</th>\n",
       "      <td>12</td>\n",
       "      <td>2013</td>\n",
       "    </tr>\n",
       "    <tr>\n",
       "      <th>408</th>\n",
       "      <td>11</td>\n",
       "      <td>2012</td>\n",
       "    </tr>\n",
       "  </tbody>\n",
       "</table>\n",
       "</div>"
      ],
      "text/plain": [
       "      W  Year\n",
       "380  13  2011\n",
       "636  13  2019\n",
       "58   12  2001\n",
       "443  12  2013\n",
       "408  11  2012"
      ]
     },
     "execution_count": 216,
     "metadata": {},
     "output_type": "execute_result"
    }
   ],
   "source": [
    "#Top 5 years for the 49ers\n",
    "df[df['NFL Team'] == 'San Francisco 49ers'][['W','Year']].sort_values(by=['W'],ascending=False).head(5)"
   ]
  },
  {
   "cell_type": "code",
   "execution_count": 224,
   "id": "0ea29a57",
   "metadata": {},
   "outputs": [
    {
     "data": {
      "text/plain": [
       "array([0, 1], dtype=int64)"
      ]
     },
     "execution_count": 224,
     "metadata": {},
     "output_type": "execute_result"
    }
   ],
   "source": [
    "#These lines of code were used to check if the team went undefeated in each category\n",
    "\n",
    "# df[df['NFL Team'] == 'San Francisco 49ers']['Home Undefeated'].unique()\n",
    "# df[df['NFL Team'] == 'San Francisco 49ers']['Road Undefeated'].unique()\n",
    "# df[df['NFL Team'] == 'San Francisco 49ers']['Division Undefeated'].unique()\n",
    "# df[df['NFL Team'] == 'San Francisco 49ers']['Last 5 Undefeated'].unique()\n",
    "# df[df['NFL Team'] == 'San Francisco 49ers']['Conference Undefeated'].unique()\n",
    "# df[df['NFL Team'] == 'San Francisco 49ers']['Non-Conference Undefeated'].unique()"
   ]
  },
  {
   "cell_type": "code",
   "execution_count": 228,
   "id": "7ba85a62",
   "metadata": {},
   "outputs": [
    {
     "data": {
      "text/html": [
       "<div>\n",
       "<style scoped>\n",
       "    .dataframe tbody tr th:only-of-type {\n",
       "        vertical-align: middle;\n",
       "    }\n",
       "\n",
       "    .dataframe tbody tr th {\n",
       "        vertical-align: top;\n",
       "    }\n",
       "\n",
       "    .dataframe thead th {\n",
       "        text-align: right;\n",
       "    }\n",
       "</style>\n",
       "<table border=\"1\" class=\"dataframe\">\n",
       "  <thead>\n",
       "    <tr style=\"text-align: right;\">\n",
       "      <th></th>\n",
       "      <th>Last 5 Undefeated</th>\n",
       "      <th>Year</th>\n",
       "    </tr>\n",
       "  </thead>\n",
       "  <tbody>\n",
       "    <tr>\n",
       "      <th>552</th>\n",
       "      <td>1</td>\n",
       "      <td>2017</td>\n",
       "    </tr>\n",
       "    <tr>\n",
       "      <th>443</th>\n",
       "      <td>1</td>\n",
       "      <td>2013</td>\n",
       "    </tr>\n",
       "  </tbody>\n",
       "</table>\n",
       "</div>"
      ],
      "text/plain": [
       "     Last 5 Undefeated  Year\n",
       "552                  1  2017\n",
       "443                  1  2013"
      ]
     },
     "execution_count": 228,
     "metadata": {},
     "output_type": "execute_result"
    }
   ],
   "source": [
    "#Years undefeated in Last 5 games\n",
    "df[df['NFL Team'] == 'San Francisco 49ers'][['Last 5 Undefeated','Year']].sort_values(by=['Last 5 Undefeated'],ascending=False).head(2)"
   ]
  },
  {
   "cell_type": "code",
   "execution_count": 230,
   "id": "37da68b6",
   "metadata": {},
   "outputs": [
    {
     "data": {
      "text/html": [
       "<div>\n",
       "<style scoped>\n",
       "    .dataframe tbody tr th:only-of-type {\n",
       "        vertical-align: middle;\n",
       "    }\n",
       "\n",
       "    .dataframe tbody tr th {\n",
       "        vertical-align: top;\n",
       "    }\n",
       "\n",
       "    .dataframe thead th {\n",
       "        text-align: right;\n",
       "    }\n",
       "</style>\n",
       "<table border=\"1\" class=\"dataframe\">\n",
       "  <thead>\n",
       "    <tr style=\"text-align: right;\">\n",
       "      <th></th>\n",
       "      <th>Non-Conference Undefeated</th>\n",
       "      <th>Year</th>\n",
       "    </tr>\n",
       "  </thead>\n",
       "  <tbody>\n",
       "    <tr>\n",
       "      <th>58</th>\n",
       "      <td>1</td>\n",
       "      <td>2001</td>\n",
       "    </tr>\n",
       "    <tr>\n",
       "      <th>408</th>\n",
       "      <td>1</td>\n",
       "      <td>2012</td>\n",
       "    </tr>\n",
       "  </tbody>\n",
       "</table>\n",
       "</div>"
      ],
      "text/plain": [
       "     Non-Conference Undefeated  Year\n",
       "58                           1  2001\n",
       "408                          1  2012"
      ]
     },
     "execution_count": 230,
     "metadata": {},
     "output_type": "execute_result"
    }
   ],
   "source": [
    "#Years undefeated in Non-Conference games\n",
    "df[df['NFL Team'] == 'San Francisco 49ers'][['Non-Conference Undefeated','Year']].sort_values(by=['Non-Conference Undefeated'],ascending=False).head(2)"
   ]
  },
  {
   "cell_type": "code",
   "execution_count": null,
   "id": "2e66fdf7",
   "metadata": {},
   "outputs": [],
   "source": []
  }
 ],
 "metadata": {
  "kernelspec": {
   "display_name": "Python 3 (ipykernel)",
   "language": "python",
   "name": "python3"
  },
  "language_info": {
   "codemirror_mode": {
    "name": "ipython",
    "version": 3
   },
   "file_extension": ".py",
   "mimetype": "text/x-python",
   "name": "python",
   "nbconvert_exporter": "python",
   "pygments_lexer": "ipython3",
   "version": "3.9.12"
  }
 },
 "nbformat": 4,
 "nbformat_minor": 5
}
